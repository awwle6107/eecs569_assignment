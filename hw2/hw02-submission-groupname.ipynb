{
 "cells": [
  {
   "cell_type": "markdown",
   "id": "a5367186",
   "metadata": {},
   "source": [
    "# EECS 469/569: Homework 2 Submission\n",
    "## Single Node Multi-Threaded Performance of Roaring Thunder\n",
    "### Due: Tuesday, Oct. 4 *before* midnight\n",
    "\n",
    "[Sign-up for a grading period here.](https://doodle.com/meeting/participate/id/epQo0Dra)"
   ]
  },
  {
   "cell_type": "markdown",
   "id": "ea8eef32",
   "metadata": {},
   "source": [
    "## Name 1:\n",
    "## Name 2: "
   ]
  },
  {
   "cell_type": "markdown",
   "id": "a4dd3cfb",
   "metadata": {},
   "source": [
    "## Checklist\n",
    "\n",
    "0. [Other Deliverables](#Other-Deliverables)\n",
    "    0. Sign up for grading slot\n",
    "    1. Email team to Dr. Hansen\n",
    "    2. Write a couple of paragraphs on main takeaways and how you worked together\n",
    "1. [OpenMP Overhead](#2.-OpenMP-Overhead)\n",
    "    1. paper summary\n",
    "    2. directive overhead\n",
    "    3. scheduler overhead\n",
    "2. [OpenMP Linear Algebra](#3.-OpenMP-Linear-Algebra)\n",
    "    1. naive versus tiled parallel speedup\n",
    "    2. parallel for versus tasks speedup\n",
    "    3. matrix-vector and dot-product speedup\n",
    "3. [Non-Linear Algebra](#4.-Non-Linear-Algebra)\n",
    "    1. description of your solved problem and how you solved it, discussion of another group"
   ]
  },
  {
   "cell_type": "markdown",
   "id": "f5b32a39",
   "metadata": {},
   "source": [
    "### Submission Instructions\n",
    "\n",
    "Follow all instructions within `hw02.ipynb`. To submit the homework assignment, put **only relevant files (including this notebook)** in a folder. Zip the folder (e.g., using [7-zip](https://www.7-zip.org/)) and send one email to Dr. Hansen (CC your partner) with the zipped folder. **Do not include the benchmark files, they are not relevant.** Print a .pdf of this (completed) Jupyter notebook and submit it to D2L before the deadline (`CTRL+P` $\\rightarrow$ `Save as PDF` in Google Chrome). \n",
    "\n",
    "It is your responsibility that all of the figures, plots, source code, etc. properly appear in the submitted notebook **and .pdf**. Homework 1 was graded leniently, this homework will check to see improvements.  "
   ]
  },
  {
   "cell_type": "markdown",
   "id": "70fb25b6",
   "metadata": {},
   "source": [
    "## Other Deliverables"
   ]
  },
  {
   "cell_type": "markdown",
   "id": "5cd0cedb",
   "metadata": {},
   "source": [
    "$\\mathbf{\\infty}$**.1** **FIRST DELIVERABLE (-5 points if not done):** ***By class on Monday, Sep. 19,*** email Dr. Hansen (CC your partner) who you will be working with for this homework. "
   ]
  },
  {
   "cell_type": "markdown",
   "id": "062282d9",
   "metadata": {},
   "source": [
    "$\\mathbf{\\infty}$**.2** **FINAL DELIVERABLE (3 points):** ***After*** you have completed the entire assignment, write a few paragraphs on your main takeaways from the assignment. **Clearly state** how the work was split up between you and your partner. "
   ]
  },
  {
   "cell_type": "markdown",
   "id": "f3db79ae",
   "metadata": {},
   "source": [
    "## 2. OpenMP Overhead\n",
    "\n",
    "### Required SLURM Batch Submissions:\n",
    "* submit the provided `.slurm` file in the syncbench folder"
   ]
  },
  {
   "cell_type": "markdown",
   "id": "17956a26",
   "metadata": {},
   "source": [
    "**Datasets:** link your code and datasets here with a couple word description of each:\n",
    "* [example link](matrix_multiply_serial_naive.c)\n",
    "* "
   ]
  },
  {
   "cell_type": "markdown",
   "id": "5eaf53bc",
   "metadata": {},
   "source": [
    "**2.1 DELIVERABLE (3 points):** Write a one paragraph summary of the paper. "
   ]
  },
  {
   "cell_type": "markdown",
   "id": "1c967630",
   "metadata": {},
   "source": [
    "**2.2 DELIVERABLE (10 points):** For syncbench: create a table with the average overhead time, and discuss the overhead of the following OpenMP directives: parallel, for, parallel for, barrier, critical, atomic. \n",
    "\n",
    "Create a box-whiskers that compares the time distribution between critical, lock/unlock, and atomic. Discuss."
   ]
  },
  {
   "cell_type": "markdown",
   "id": "b05d09e4",
   "metadata": {},
   "source": [
    "| parallel | for | parallel for | barrier | critical | atomic |\n",
    "|----------|-----|--------------|---------|----------|--------|\n",
    "|3.608037  |0.002238| 0.045789    |0.005272 | 0.004154 |0.000193|\n",
    "\n",
    "**discussion:**\n",
    "The plain parallel has the most overhead due do its lack of optimization like for or parallel for. And the reason why parallel for has more overhead than just for is because parallel for needs to go through the parallel initialization. The atomic has the least overhead because its only accessing to one memory address. For critical, it has more overhead because its making private copies for each thread. On paper, barrier has the least overhead, because its simply putting a breakpoint on each thread. "
   ]
  },
  {
   "cell_type": "code",
   "execution_count": null,
   "id": "01b588cb",
   "metadata": {},
   "outputs": [],
   "source": [
    "# plot the box-whiskers plot here"
   ]
  },
  {
   "cell_type": "markdown",
   "id": "3b10989e",
   "metadata": {},
   "source": [
    "**discussion:**"
   ]
  },
  {
   "cell_type": "markdown",
   "id": "fe730c7a",
   "metadata": {},
   "source": [
    "**2.3 DELIVERABLE (10 points):** For schedbench: load the CSV file output using Python below. Recreate Fig. 7 from the paper, except use the overhead time in microseconds (us) instead of clock cycles. You may need to use a log-scale for the y-axis. \n",
    "\n",
    "For the dynamic scheduler overhead, create a single figure that has a normal distribution plotted for each of the different chunk sizes for the overhead time. Make sure the alpha value of the plots allows visualization for overlapping distributions. Two example plots are provided. If you find the values are too disparate, you may select a subset of chunk sizes that make sense. \n",
    "\n",
    "Discuss the difference in overhead for the different schedulers. Why would you use one over the other?"
   ]
  },
  {
   "cell_type": "code",
   "execution_count": null,
   "id": "e0800bb8",
   "metadata": {},
   "outputs": [],
   "source": [
    "# recreate Fig. 7 here"
   ]
  },
  {
   "cell_type": "code",
   "execution_count": null,
   "id": "a2d04446",
   "metadata": {},
   "outputs": [],
   "source": [
    "# create a normal distribution plot here for dynamic scheduler overhead. Choose at least 3 chunk sizes that make a nice plot."
   ]
  },
  {
   "cell_type": "markdown",
   "id": "f0c90211",
   "metadata": {},
   "source": [
    "**discussion:**"
   ]
  },
  {
   "cell_type": "markdown",
   "id": "08addbe9",
   "metadata": {},
   "source": [
    "## 3. OpenMP Linear Algebra\n",
    "### Required SLURM Batch Submissions:\n",
    "* OpenMP naive matrix-matrix product (5 each): T = 2, 4, 8, 16, 32\n",
    "    * 20 times for T = 32\n",
    "* OpenMP tiled matrix-matrix product (5 each): T = 2, 4, 8, 16, 32\n",
    "    * 20 times for T = 32\n",
    "* OpenMP tasked tiled matrix-matrix product (20 times): T = 32\n",
    "* OpenMP dot product (5 each): T = 1, 2, 4, 8, 16, 32\n",
    "    * 20 times for T = 32\n",
    "* OpenMP matrix-vector product (5 each): T = 1, 2, 4, 8, 16, 32\n",
    "    * 20 times for T = 32"
   ]
  },
  {
   "cell_type": "markdown",
   "id": "df95dcc3",
   "metadata": {},
   "source": [
    "**3.1 DELIVERABLE (25 points):** \n",
    "\n",
    "Create four figures that have $T$ on the x-axis (including $T=1$), and on the y-axis:\n",
    "1. average parallel speedup versus the sequential time (plot the ideal speedup on the same graph)\n",
    "2. average floating point operations per second (FLOPs)\n",
    "3. average execution time\n",
    "4. average parallel efficiency (plot a line showing perfect parallel efficiency)\n",
    "\n",
    "Each figure should have two plots: one for the naive method and one for the tiled method. The two plots should have distinct colors and lines (e.g., solid verus dashed). Add a legend that clearly identifies which plot is which. \n",
    "\n",
    "***USE AN APPROPRIATE SI PREFIX FOR YOUR Y-AXES (e.g., GFlops)!*** Discuss in one paragraph per figure the impact of OpenMP and the number of threads on algorithm performance. ***WHY*** do you think you are seeing the results you are? Not just **WHAT**."
   ]
  },
  {
   "cell_type": "markdown",
   "id": "1c453b70",
   "metadata": {},
   "source": [
    "**Code and datasets:** link all of your code and datasets here with a couple word description of each:\n",
    "* [example link](matrix_multiply_serial_naive.c)\n",
    "* "
   ]
  },
  {
   "cell_type": "code",
   "execution_count": null,
   "id": "79ed4bd0",
   "metadata": {},
   "outputs": [],
   "source": [
    "# plot number of threads versus parallel speedup for naive/tiled"
   ]
  },
  {
   "cell_type": "code",
   "execution_count": null,
   "id": "894dcf17",
   "metadata": {},
   "outputs": [],
   "source": [
    "# plot number of threads versus FLOPs for naive/tiled"
   ]
  },
  {
   "cell_type": "code",
   "execution_count": null,
   "id": "98af39b8",
   "metadata": {},
   "outputs": [],
   "source": [
    "# plot number of threads versus execution time for naive/tiled"
   ]
  },
  {
   "cell_type": "code",
   "execution_count": null,
   "id": "2f7f74e1",
   "metadata": {},
   "outputs": [],
   "source": [
    "# plot number of threads versus parallel efficiency for naive/tiled"
   ]
  },
  {
   "cell_type": "markdown",
   "id": "d7e6b0c6",
   "metadata": {},
   "source": [
    "**discussion:**"
   ]
  },
  {
   "cell_type": "markdown",
   "id": "f1361864",
   "metadata": {},
   "source": [
    "#### 3.2 DELIVERABLE (14 points):\n",
    "Create a box and whiskers plot that compares the FLOPs performance of the tasking based parallelism versus the for-loop based parallelism. Write one paragraph that discusses the results. "
   ]
  },
  {
   "cell_type": "markdown",
   "id": "0379e914",
   "metadata": {},
   "source": [
    "**Code and datasets:** link all of your code and datasets here with a couple word description of each:\n",
    "* [example link](matrix_multiply_serial_naive.c)\n",
    "* "
   ]
  },
  {
   "cell_type": "code",
   "execution_count": null,
   "id": "7dcbb85b",
   "metadata": {},
   "outputs": [],
   "source": [
    "# plot box-whiskers comparing FLOPs of tasks versus loops "
   ]
  },
  {
   "cell_type": "markdown",
   "id": "28872ae3",
   "metadata": {},
   "source": [
    "**discussion:**"
   ]
  },
  {
   "cell_type": "markdown",
   "id": "40ed36a5",
   "metadata": {},
   "source": [
    "**3.3 DELIVERABLE (15 points):** \n",
    "\n",
    "Create two figures that have $T$ on the x-axis (including $T=1$), and on the y-axis:\n",
    "1. average parallel speedup versus the sequential time (plot the ideal speedup on the same graph)\n",
    "2. average floating point operations per second (FLOPs)\n",
    "\n",
    "Each figure should have two plots: one for the dot product and one for the matrix-vector product. The two plots should have distinct colors and lines (e.g., solid verus dashed). Add a legend that clearly identifies which plot is which. \n",
    "\n",
    "Create a box-whiskers plot that shows the FLOPs performance compared between the matrix-matrix product (all three versions), matrix-vector product, and dot-product. Discuss the results."
   ]
  },
  {
   "cell_type": "markdown",
   "id": "60e3229a",
   "metadata": {},
   "source": [
    "**Code and datasets:** link all of your code and datasets here with a couple word description of each:\n",
    "* [example link](matrix_multiply_serial_naive.c)\n",
    "* "
   ]
  },
  {
   "cell_type": "code",
   "execution_count": null,
   "id": "da569b18",
   "metadata": {},
   "outputs": [],
   "source": [
    "# plot T versus parallel speedup here for dot product and matrix vector product"
   ]
  },
  {
   "cell_type": "code",
   "execution_count": null,
   "id": "4e2bdb33",
   "metadata": {},
   "outputs": [],
   "source": [
    "# plot T versus FLOPs here for dot product and matrix vector product"
   ]
  },
  {
   "cell_type": "code",
   "execution_count": null,
   "id": "c18ef0f6",
   "metadata": {},
   "outputs": [],
   "source": [
    "# plot a box-whiskers that compares the FLOPs of all five algorithm implementations"
   ]
  },
  {
   "cell_type": "markdown",
   "id": "740dcf59",
   "metadata": {},
   "source": [
    "**discussion:**"
   ]
  },
  {
   "cell_type": "markdown",
   "id": "c6d3675d",
   "metadata": {},
   "source": [
    "## 4. Non-Linear-Algebra\n",
    "### Required SLURM Batch Submissions:\n",
    "* solve your chosen problem for $T=1$ and $T=32$"
   ]
  },
  {
   "cell_type": "markdown",
   "id": "4b454267",
   "metadata": {},
   "source": [
    "**Code and datasets:** link all of your code and datasets here with a couple word description of each:\n",
    "* [example link](matrix_multiply_serial_naive.c)\n",
    "* "
   ]
  },
  {
   "cell_type": "markdown",
   "id": "44414f0b",
   "metadata": {},
   "source": [
    "**4.1 DELIVERABLE (20 points):** Describe what problem you chose and how you accelerated it using OpenMP. Prove that the parallel version is thread safe (same answer as non-threaded) and show the parallel speedup. \n",
    "\n",
    "Discuss your problem with another group and describe their problem in a few sentences, and which group (by name of team members). "
   ]
  },
  {
   "cell_type": "markdown",
   "id": "cd90ae92",
   "metadata": {},
   "source": []
  }
 ],
 "metadata": {
  "kernelspec": {
   "display_name": "Python 3.9.7 ('base')",
   "language": "python",
   "name": "python3"
  },
  "language_info": {
   "codemirror_mode": {
    "name": "ipython",
    "version": 3
   },
   "file_extension": ".py",
   "mimetype": "text/x-python",
   "name": "python",
   "nbconvert_exporter": "python",
   "pygments_lexer": "ipython3",
   "version": "3.9.7"
  },
  "vscode": {
   "interpreter": {
    "hash": "68756eb6c044f31c46e3e1f38723aea1f0146198488dd3d60c0e4241eb6f7dd0"
   }
  }
 },
 "nbformat": 4,
 "nbformat_minor": 5
}
